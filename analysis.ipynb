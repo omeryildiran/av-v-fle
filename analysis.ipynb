{
 "cells": [
  {
   "cell_type": "code",
   "execution_count": 3,
   "metadata": {},
   "outputs": [],
   "source": [
    "import numpy as np\n",
    "import matplotlib.pyplot as plt\n",
    "import pandas as pd\n",
    "import seaborn as sns\n",
    "import os"
   ]
  },
  {
   "cell_type": "code",
   "execution_count": 11,
   "metadata": {},
   "outputs": [
    {
     "data": {
      "text/html": [
       "<div>\n",
       "<style scoped>\n",
       "    .dataframe tbody tr th:only-of-type {\n",
       "        vertical-align: middle;\n",
       "    }\n",
       "\n",
       "    .dataframe tbody tr th {\n",
       "        vertical-align: top;\n",
       "    }\n",
       "\n",
       "    .dataframe thead th {\n",
       "        text-align: right;\n",
       "    }\n",
       "</style>\n",
       "<table border=\"1\" class=\"dataframe\">\n",
       "  <thead>\n",
       "    <tr style=\"text-align: right;\">\n",
       "      <th></th>\n",
       "      <th>Unnamed: 0</th>\n",
       "      <th>responses</th>\n",
       "      <th>responseTimes</th>\n",
       "      <th>incidentTimesAimed</th>\n",
       "      <th>audioDelaysAimed</th>\n",
       "      <th>visualDelaysAimed</th>\n",
       "      <th>audioTime</th>\n",
       "      <th>flashTime</th>\n",
       "      <th>trialNum</th>\n",
       "    </tr>\n",
       "  </thead>\n",
       "  <tbody>\n",
       "    <tr>\n",
       "      <th>0</th>\n",
       "      <td>0</td>\n",
       "      <td>0</td>\n",
       "      <td>0.601661</td>\n",
       "      <td>0.971133</td>\n",
       "      <td>0</td>\n",
       "      <td>1</td>\n",
       "      <td>0.931917</td>\n",
       "      <td>0.898045</td>\n",
       "      <td>0</td>\n",
       "    </tr>\n",
       "    <tr>\n",
       "      <th>1</th>\n",
       "      <td>1</td>\n",
       "      <td>0</td>\n",
       "      <td>0.884562</td>\n",
       "      <td>0.924655</td>\n",
       "      <td>-2</td>\n",
       "      <td>-4</td>\n",
       "      <td>0.979661</td>\n",
       "      <td>0.946540</td>\n",
       "      <td>1</td>\n",
       "    </tr>\n",
       "    <tr>\n",
       "      <th>2</th>\n",
       "      <td>2</td>\n",
       "      <td>0</td>\n",
       "      <td>1.651274</td>\n",
       "      <td>0.398859</td>\n",
       "      <td>4</td>\n",
       "      <td>2</td>\n",
       "      <td>0.431497</td>\n",
       "      <td>0.380744</td>\n",
       "      <td>2</td>\n",
       "    </tr>\n",
       "  </tbody>\n",
       "</table>\n",
       "</div>"
      ],
      "text/plain": [
       "   Unnamed: 0  responses  responseTimes  incidentTimesAimed  audioDelaysAimed  \\\n",
       "0           0          0       0.601661            0.971133                 0   \n",
       "1           1          0       0.884562            0.924655                -2   \n",
       "2           2          0       1.651274            0.398859                 4   \n",
       "\n",
       "   visualDelaysAimed  audioTime  flashTime  trialNum  \n",
       "0                  1   0.931917   0.898045         0  \n",
       "1                 -4   0.979661   0.946540         1  \n",
       "2                  2   0.431497   0.380744         2  "
      ]
     },
     "execution_count": 11,
     "metadata": {},
     "output_type": "execute_result"
    }
   ],
   "source": [
    "# Importing the last dataset on from data folder\n",
    "\n",
    "# files on data folder by date and only the .csv files\n",
    "files = os.listdir('data/')\n",
    "files = [f for f in files if f.endswith('.csv')]\n",
    "files.sort()\n",
    "files[0]\n",
    "\n",
    "# import as pd dataframe\n",
    "df = pd.read_csv('data/' + files[0])\n"
   ]
  }
 ],
 "metadata": {
  "kernelspec": {
   "display_name": "Python 3",
   "language": "python",
   "name": "python3"
  },
  "language_info": {
   "codemirror_mode": {
    "name": "ipython",
    "version": 3
   },
   "file_extension": ".py",
   "mimetype": "text/x-python",
   "name": "python",
   "nbconvert_exporter": "python",
   "pygments_lexer": "ipython3",
   "version": "3.11.4"
  }
 },
 "nbformat": 4,
 "nbformat_minor": 2
}
